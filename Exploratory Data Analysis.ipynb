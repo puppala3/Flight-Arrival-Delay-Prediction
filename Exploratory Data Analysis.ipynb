{
 "cells": [
  {
   "cell_type": "code",
   "execution_count": 1,
   "id": "0299c079",
   "metadata": {},
   "outputs": [
    {
     "data": {
      "text/html": [
       "<div>\n",
       "<style scoped>\n",
       "    .dataframe tbody tr th:only-of-type {\n",
       "        vertical-align: middle;\n",
       "    }\n",
       "\n",
       "    .dataframe tbody tr th {\n",
       "        vertical-align: top;\n",
       "    }\n",
       "\n",
       "    .dataframe thead th {\n",
       "        text-align: right;\n",
       "    }\n",
       "</style>\n",
       "<table border=\"1\" class=\"dataframe\">\n",
       "  <thead>\n",
       "    <tr style=\"text-align: right;\">\n",
       "      <th></th>\n",
       "      <th>FlightDate</th>\n",
       "      <th>Airline</th>\n",
       "      <th>Origin</th>\n",
       "      <th>Dest</th>\n",
       "      <th>Cancelled</th>\n",
       "      <th>Diverted</th>\n",
       "      <th>CRSDepTime</th>\n",
       "      <th>DepTime</th>\n",
       "      <th>DepDelayMinutes</th>\n",
       "      <th>DepDelay</th>\n",
       "      <th>...</th>\n",
       "      <th>WheelsOff</th>\n",
       "      <th>WheelsOn</th>\n",
       "      <th>TaxiIn</th>\n",
       "      <th>CRSArrTime</th>\n",
       "      <th>ArrDelay</th>\n",
       "      <th>ArrDel15</th>\n",
       "      <th>ArrivalDelayGroups</th>\n",
       "      <th>ArrTimeBlk</th>\n",
       "      <th>DistanceGroup</th>\n",
       "      <th>DivAirportLandings</th>\n",
       "    </tr>\n",
       "  </thead>\n",
       "  <tbody>\n",
       "    <tr>\n",
       "      <th>0</th>\n",
       "      <td>2018-01-05T00:00:00.000Z</td>\n",
       "      <td>Endeavor Air Inc.</td>\n",
       "      <td>ATL</td>\n",
       "      <td>ABY</td>\n",
       "      <td>False</td>\n",
       "      <td>False</td>\n",
       "      <td>1037</td>\n",
       "      <td>1032.0</td>\n",
       "      <td>0.0</td>\n",
       "      <td>-5.0</td>\n",
       "      <td>...</td>\n",
       "      <td>1052.0</td>\n",
       "      <td>1121.0</td>\n",
       "      <td>3.0</td>\n",
       "      <td>1137</td>\n",
       "      <td>-13.0</td>\n",
       "      <td>0.0</td>\n",
       "      <td>-1.0</td>\n",
       "      <td>1100-1159</td>\n",
       "      <td>1</td>\n",
       "      <td>0</td>\n",
       "    </tr>\n",
       "    <tr>\n",
       "      <th>1</th>\n",
       "      <td>2018-01-08T00:00:00.000Z</td>\n",
       "      <td>Endeavor Air Inc.</td>\n",
       "      <td>ATL</td>\n",
       "      <td>ABY</td>\n",
       "      <td>False</td>\n",
       "      <td>False</td>\n",
       "      <td>1037</td>\n",
       "      <td>1059.0</td>\n",
       "      <td>22.0</td>\n",
       "      <td>22.0</td>\n",
       "      <td>...</td>\n",
       "      <td>1117.0</td>\n",
       "      <td>1149.0</td>\n",
       "      <td>4.0</td>\n",
       "      <td>1137</td>\n",
       "      <td>16.0</td>\n",
       "      <td>1.0</td>\n",
       "      <td>1.0</td>\n",
       "      <td>1100-1159</td>\n",
       "      <td>1</td>\n",
       "      <td>0</td>\n",
       "    </tr>\n",
       "    <tr>\n",
       "      <th>2</th>\n",
       "      <td>2018-01-18T00:00:00.000Z</td>\n",
       "      <td>Endeavor Air Inc.</td>\n",
       "      <td>ATL</td>\n",
       "      <td>ABY</td>\n",
       "      <td>False</td>\n",
       "      <td>False</td>\n",
       "      <td>1037</td>\n",
       "      <td>1233.0</td>\n",
       "      <td>116.0</td>\n",
       "      <td>116.0</td>\n",
       "      <td>...</td>\n",
       "      <td>1307.0</td>\n",
       "      <td>1339.0</td>\n",
       "      <td>6.0</td>\n",
       "      <td>1137</td>\n",
       "      <td>128.0</td>\n",
       "      <td>1.0</td>\n",
       "      <td>8.0</td>\n",
       "      <td>1100-1159</td>\n",
       "      <td>1</td>\n",
       "      <td>0</td>\n",
       "    </tr>\n",
       "    <tr>\n",
       "      <th>3</th>\n",
       "      <td>2018-01-27T00:00:00.000Z</td>\n",
       "      <td>Endeavor Air Inc.</td>\n",
       "      <td>ATL</td>\n",
       "      <td>ABY</td>\n",
       "      <td>False</td>\n",
       "      <td>False</td>\n",
       "      <td>1037</td>\n",
       "      <td>1028.0</td>\n",
       "      <td>0.0</td>\n",
       "      <td>-9.0</td>\n",
       "      <td>...</td>\n",
       "      <td>1046.0</td>\n",
       "      <td>1115.0</td>\n",
       "      <td>4.0</td>\n",
       "      <td>1136</td>\n",
       "      <td>-17.0</td>\n",
       "      <td>0.0</td>\n",
       "      <td>-2.0</td>\n",
       "      <td>1100-1159</td>\n",
       "      <td>1</td>\n",
       "      <td>0</td>\n",
       "    </tr>\n",
       "    <tr>\n",
       "      <th>4</th>\n",
       "      <td>2018-01-08T00:00:00.000Z</td>\n",
       "      <td>Endeavor Air Inc.</td>\n",
       "      <td>ATL</td>\n",
       "      <td>EVV</td>\n",
       "      <td>False</td>\n",
       "      <td>False</td>\n",
       "      <td>939</td>\n",
       "      <td>938.0</td>\n",
       "      <td>0.0</td>\n",
       "      <td>-1.0</td>\n",
       "      <td>...</td>\n",
       "      <td>951.0</td>\n",
       "      <td>951.0</td>\n",
       "      <td>4.0</td>\n",
       "      <td>1008</td>\n",
       "      <td>-13.0</td>\n",
       "      <td>0.0</td>\n",
       "      <td>-1.0</td>\n",
       "      <td>1000-1059</td>\n",
       "      <td>2</td>\n",
       "      <td>0</td>\n",
       "    </tr>\n",
       "  </tbody>\n",
       "</table>\n",
       "<p>5 rows × 61 columns</p>\n",
       "</div>"
      ],
      "text/plain": [
       "                 FlightDate            Airline Origin Dest  Cancelled  \\\n",
       "0  2018-01-05T00:00:00.000Z  Endeavor Air Inc.    ATL  ABY      False   \n",
       "1  2018-01-08T00:00:00.000Z  Endeavor Air Inc.    ATL  ABY      False   \n",
       "2  2018-01-18T00:00:00.000Z  Endeavor Air Inc.    ATL  ABY      False   \n",
       "3  2018-01-27T00:00:00.000Z  Endeavor Air Inc.    ATL  ABY      False   \n",
       "4  2018-01-08T00:00:00.000Z  Endeavor Air Inc.    ATL  EVV      False   \n",
       "\n",
       "   Diverted  CRSDepTime  DepTime  DepDelayMinutes  DepDelay  ...  WheelsOff  \\\n",
       "0     False        1037   1032.0              0.0      -5.0  ...     1052.0   \n",
       "1     False        1037   1059.0             22.0      22.0  ...     1117.0   \n",
       "2     False        1037   1233.0            116.0     116.0  ...     1307.0   \n",
       "3     False        1037   1028.0              0.0      -9.0  ...     1046.0   \n",
       "4     False         939    938.0              0.0      -1.0  ...      951.0   \n",
       "\n",
       "   WheelsOn  TaxiIn  CRSArrTime  ArrDelay  ArrDel15  ArrivalDelayGroups  \\\n",
       "0    1121.0     3.0        1137     -13.0       0.0                -1.0   \n",
       "1    1149.0     4.0        1137      16.0       1.0                 1.0   \n",
       "2    1339.0     6.0        1137     128.0       1.0                 8.0   \n",
       "3    1115.0     4.0        1136     -17.0       0.0                -2.0   \n",
       "4     951.0     4.0        1008     -13.0       0.0                -1.0   \n",
       "\n",
       "   ArrTimeBlk  DistanceGroup  DivAirportLandings  \n",
       "0   1100-1159              1                   0  \n",
       "1   1100-1159              1                   0  \n",
       "2   1100-1159              1                   0  \n",
       "3   1100-1159              1                   0  \n",
       "4   1000-1059              2                   0  \n",
       "\n",
       "[5 rows x 61 columns]"
      ]
     },
     "execution_count": 1,
     "metadata": {},
     "output_type": "execute_result"
    }
   ],
   "source": [
    "import pandas as pd\n",
    "df=pd.read_csv(\"info.csv\")\n",
    "df.head()"
   ]
  },
  {
   "cell_type": "code",
   "execution_count": 2,
   "id": "bfc4a5cf",
   "metadata": {},
   "outputs": [
    {
     "data": {
      "text/plain": [
       "(568879, 61)"
      ]
     },
     "execution_count": 2,
     "metadata": {},
     "output_type": "execute_result"
    }
   ],
   "source": [
    "df.shape"
   ]
  },
  {
   "cell_type": "code",
   "execution_count": 4,
   "id": "ff366600",
   "metadata": {},
   "outputs": [
    {
     "name": "stdout",
     "output_type": "stream",
     "text": [
      "108411\n"
     ]
    }
   ],
   "source": [
    "print( len(df[df['ArrDel15'] == 1]))"
   ]
  },
  {
   "cell_type": "code",
   "execution_count": 7,
   "id": "3bdd097a",
   "metadata": {},
   "outputs": [
    {
     "data": {
      "image/png": "[encoded data removed]",
      "text/plain": [
       "<Figure size 720x432 with 1 Axes>"
      ]
     },
     "metadata": {
      "needs_background": "light"
     },
     "output_type": "display_data"
    }
   ],
   "source": [
    "import matplotlib.pyplot as plt\n",
    "df['FlightDate'] = pd.to_datetime(df['FlightDate'])\n",
    "\n",
    "# Extract month from FlightDate\n",
    "df['Month'] = df['FlightDate'].dt.month\n",
    "\n",
    "# Filter rows where ArrDel15 is 1\n",
    "delayed_flights = df[df['ArrDel15'] == 1]\n",
    "\n",
    "# Group by Month and count\n",
    "monthly_delay_count = delayed_flights.groupby('Month').size()\n",
    "\n",
    "# Plot the data\n",
    "plt.figure(figsize=(10, 6))\n",
    "monthly_delay_count.plot(kind='bar', color='orange')\n",
    "plt.title('Month-wise Count of Delayed Flights (ArrDel15 = 1)')\n",
    "plt.xlabel('Month')\n",
    "plt.ylabel('Number of Delayed Flights')\n",
    "plt.xticks(rotation=0)\n",
    "plt.grid(axis='y')\n",
    "\n",
    "# Display the plot\n",
    "plt.show()"
   ]
  },
  {
   "cell_type": "code",
   "execution_count": 10,
   "id": "10cd6cc6",
   "metadata": {},
   "outputs": [
    {
     "data": {
      "image/png": "[encoded data removed]",
      "text/plain": [
       "<Figure size 720x432 with 1 Axes>"
      ]
     },
     "metadata": {
      "needs_background": "light"
     },
     "output_type": "display_data"
    }
   ],
   "source": [
    "# Extract month from FlightDate\n",
    "df['Month'] = df['FlightDate'].dt.month\n",
    "\n",
    "# Filter rows where ArrDel15 is 1 and Month is November (11)\n",
    "november_delayed_flights = df[(df['ArrDel15'] == 1) & (df['Month'] == 11)]\n",
    "\n",
    "# Group by Airline and count the number of delayed flights, then sort in descending order and get top 10\n",
    "top_10_november_delay_count_by_airline = november_delayed_flights.groupby('Airline').size().sort_values(ascending=False).head(10)\n",
    "\n",
    "# Plot the data\n",
    "plt.figure(figsize=(10, 6))\n",
    "top_10_november_delay_count_by_airline.plot(kind='bar', color='orange')\n",
    "plt.title('Top 10 Airlines with Delayed Flights in November (ArrDel15 = 1)')\n",
    "plt.xlabel('Airline')\n",
    "plt.ylabel('Number of Delayed Flights')\n",
    "plt.xticks(rotation=45, ha='right')\n",
    "plt.grid(axis='y')\n",
    "\n",
    "# Display the plot\n",
    "plt.show()"
   ]
  },
  {
   "cell_type": "code",
   "execution_count": null,
   "id": "04c2199a",
   "metadata": {},
   "outputs": [],
   "source": []
  }
 ],
 "metadata": {
  "kernelspec": {
   "display_name": "Python 3 (ipykernel)",
   "language": "python",
   "name": "python3"
  },
  "language_info": {
   "codemirror_mode": {
    "name": "ipython",
    "version": 3
   },
   "file_extension": ".py",
   "mimetype": "text/x-python",
   "name": "python",
   "nbconvert_exporter": "python",
   "pygments_lexer": "ipython3",
   "version": "3.9.12"
  }
 },
 "nbformat": 4,
 "nbformat_minor": 5
}
